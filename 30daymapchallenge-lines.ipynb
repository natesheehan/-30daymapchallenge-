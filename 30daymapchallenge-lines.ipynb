{
 "cells": [
  {
   "cell_type": "code",
   "execution_count": null,
   "metadata": {},
   "outputs": [
    {
     "name": "stdout",
     "output_type": "stream",
     "text": [
      "pygame 1.9.6\n",
      "Hello from the pygame community. https://www.pygame.org/contribute.html\n"
     ]
    }
   ],
   "source": [
    "import pygame\n",
    "import random\n",
    "import math\n",
    "import time\n",
    "\n",
    "background_colour = (0, 0, 0)\n",
    "(width, height) = (400, 360)\n",
    "\n",
    "screen = pygame.display.set_mode((width, height))\n",
    "pygame.display.set_caption('Hyphae 1.1')\n",
    "screen.fill(background_colour)\n",
    "\n",
    "\n",
    "class GrowingPoint:\n",
    "    speed = 0.15\n",
    "    colour = (200, 113, 55)\n",
    "\n",
    "    def __init__(self, x, y, angle=0):\n",
    "        self.x = x\n",
    "        self.y = y\n",
    "        self.angle = angle\n",
    "        self.curve = random.uniform(0.001, 0.005) * random.choice([-1, 1])\n",
    "        self.prob_turn = 0.005\n",
    "\n",
    "    def move(self):\n",
    "        self.angle += self.curve\n",
    "\n",
    "        if random.random() < self.prob_turn:\n",
    "            self.curve = random.uniform(0.001, 0.005) * random.choice([-1, 1])\n",
    "\n",
    "        self.x += math.sin(self.angle) * self.speed\n",
    "        self.y -= math.cos(self.angle) * self.speed\n",
    "\n",
    "\n",
    "growing_points = [GrowingPoint(width / 4, height - 60, math.pi / 4)]\n",
    "prob_split = 0.0025\n",
    "\n",
    "running = True\n",
    "living = False\n",
    "while running:\n",
    "    for event in pygame.event.get():\n",
    "        if event.type == pygame.QUIT:\n",
    "            running = False\n",
    "        elif event.type == pygame.MOUSEBUTTONDOWN:\n",
    "            living = True\n",
    "\n",
    "    if living:\n",
    "        for g in growing_points:\n",
    "            if random.random() < prob_split:\n",
    "                new_growth = GrowingPoint(g.x, g.y, g.angle + math.pi / 4)\n",
    "                new_growth.curve = - g.curve\n",
    "                growing_points.append(new_growth)\n",
    "                g.angle -= math.pi / 4\n",
    "\n",
    "        for g in growing_points:\n",
    "            g.move()\n",
    "            if 0 < g.x < width and 0 < g.y < height:\n",
    "                (cr, cg, cb, a) = screen.get_at((int(g.x), int(g.y)))\n",
    "                if cr < 254:\n",
    "                    (cr, cb, cg) = (cr + 2, cb + 2, cg + 2)\n",
    "                screen.set_at((int(g.x), int(g.y)), (cr, cg, cb))\n",
    "\n",
    "    pygame.display.flip()\n",
    "    time.sleep(0.005)"
   ]
  },
  {
   "cell_type": "code",
   "execution_count": null,
   "metadata": {},
   "outputs": [],
   "source": []
  },
  {
   "cell_type": "code",
   "execution_count": null,
   "metadata": {},
   "outputs": [],
   "source": []
  },
  {
   "cell_type": "code",
   "execution_count": null,
   "metadata": {},
   "outputs": [],
   "source": []
  }
 ],
 "metadata": {
  "kernelspec": {
   "display_name": "Python 3",
   "language": "python",
   "name": "python3"
  },
  "language_info": {
   "codemirror_mode": {
    "name": "ipython",
    "version": 3
   },
   "file_extension": ".py",
   "mimetype": "text/x-python",
   "name": "python",
   "nbconvert_exporter": "python",
   "pygments_lexer": "ipython3",
   "version": "3.7.3"
  }
 },
 "nbformat": 4,
 "nbformat_minor": 2
}
